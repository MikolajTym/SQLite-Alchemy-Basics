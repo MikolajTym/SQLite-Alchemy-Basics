{
 "cells": [
  {
   "cell_type": "code",
   "execution_count": 1,
   "id": "b0ee8108",
   "metadata": {},
   "outputs": [],
   "source": [
    "import pandas as pd\n",
    "import sqlite3\n",
    "\n",
    "connect = sqlite3.connect(\"db.sqlite\")"
   ]
  },
  {
   "cell_type": "code",
   "execution_count": 7,
   "id": "665209f4",
   "metadata": {},
   "outputs": [
    {
     "name": "stdout",
     "output_type": "stream",
     "text": [
      "coin                object\n",
      "date        datetime64[ns]\n",
      "currency            object\n",
      "price              float64\n",
      "dtype: object\n"
     ]
    }
   ],
   "source": [
    "df = pd.read_sql(\"select * from prices\", connect) # podpowiedzi jupyter tab\n",
    "df[\"date\"] = pd.to_datetime(df[\"date\"], format='%Y%m%d %H:%M:%S')\n",
    "print(df.dtypes)"
   ]
  },
  {
   "cell_type": "code",
   "execution_count": 8,
   "id": "fcfd617c",
   "metadata": {},
   "outputs": [
    {
     "name": "stdout",
     "output_type": "stream",
     "text": [
      "15\n"
     ]
    },
    {
     "data": {
      "text/html": [
       "<div>\n",
       "<style scoped>\n",
       "    .dataframe tbody tr th:only-of-type {\n",
       "        vertical-align: middle;\n",
       "    }\n",
       "\n",
       "    .dataframe tbody tr th {\n",
       "        vertical-align: top;\n",
       "    }\n",
       "\n",
       "    .dataframe thead th {\n",
       "        text-align: right;\n",
       "    }\n",
       "</style>\n",
       "<table border=\"1\" class=\"dataframe\">\n",
       "  <thead>\n",
       "    <tr style=\"text-align: right;\">\n",
       "      <th></th>\n",
       "      <th>coin</th>\n",
       "      <th>currency</th>\n",
       "      <th>price</th>\n",
       "    </tr>\n",
       "    <tr>\n",
       "      <th>date</th>\n",
       "      <th></th>\n",
       "      <th></th>\n",
       "      <th></th>\n",
       "    </tr>\n",
       "  </thead>\n",
       "  <tbody>\n",
       "    <tr>\n",
       "      <th>2022-05-18 12:17:29</th>\n",
       "      <td>BTC</td>\n",
       "      <td>USD</td>\n",
       "      <td>29958.92</td>\n",
       "    </tr>\n",
       "    <tr>\n",
       "      <th>2022-05-18 12:17:39</th>\n",
       "      <td>BTC</td>\n",
       "      <td>USD</td>\n",
       "      <td>29958.92</td>\n",
       "    </tr>\n",
       "    <tr>\n",
       "      <th>2022-05-18 12:17:49</th>\n",
       "      <td>BTC</td>\n",
       "      <td>USD</td>\n",
       "      <td>29958.92</td>\n",
       "    </tr>\n",
       "    <tr>\n",
       "      <th>2022-05-18 12:18:00</th>\n",
       "      <td>BTC</td>\n",
       "      <td>USD</td>\n",
       "      <td>29958.92</td>\n",
       "    </tr>\n",
       "    <tr>\n",
       "      <th>2022-05-18 12:18:10</th>\n",
       "      <td>BTC</td>\n",
       "      <td>USD</td>\n",
       "      <td>29945.15</td>\n",
       "    </tr>\n",
       "  </tbody>\n",
       "</table>\n",
       "</div>"
      ],
      "text/plain": [
       "                    coin currency     price\n",
       "date                                       \n",
       "2022-05-18 12:17:29  BTC      USD  29958.92\n",
       "2022-05-18 12:17:39  BTC      USD  29958.92\n",
       "2022-05-18 12:17:49  BTC      USD  29958.92\n",
       "2022-05-18 12:18:00  BTC      USD  29958.92\n",
       "2022-05-18 12:18:10  BTC      USD  29945.15"
      ]
     },
     "execution_count": 8,
     "metadata": {},
     "output_type": "execute_result"
    }
   ],
   "source": [
    "df2 = df.set_index(\"date\")\n",
    "print(df2.size)\n",
    "df2.head()"
   ]
  },
  {
   "cell_type": "code",
   "execution_count": 9,
   "id": "1cecdc8e",
   "metadata": {},
   "outputs": [
    {
     "data": {
      "text/plain": [
       "<AxesSubplot:xlabel='date'>"
      ]
     },
     "execution_count": 9,
     "metadata": {},
     "output_type": "execute_result"
    },
    {
     "data": {
      "image/png": "[encoded data removed]",
      "text/plain": [
       "<Figure size 432x288 with 1 Axes>"
      ]
     },
     "metadata": {
      "needs_background": "light"
     },
     "output_type": "display_data"
    }
   ],
   "source": [
    "df2.plot()"
   ]
  },
  {
   "cell_type": "code",
   "execution_count": null,
   "id": "7c6dc2d5",
   "metadata": {},
   "outputs": [],
   "source": []
  }
 ],
 "metadata": {
  "kernelspec": {
   "display_name": "Python 3 (ipykernel)",
   "language": "python",
   "name": "python3"
  },
  "language_info": {
   "codemirror_mode": {
    "name": "ipython",
    "version": 3
   },
   "file_extension": ".py",
   "mimetype": "text/x-python",
   "name": "python",
   "nbconvert_exporter": "python",
   "pygments_lexer": "ipython3",
   "version": "3.9.7"
  }
 },
 "nbformat": 4,
 "nbformat_minor": 5
}
